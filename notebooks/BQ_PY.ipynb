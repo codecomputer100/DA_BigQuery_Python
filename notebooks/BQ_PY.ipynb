{
 "cells": [
  {
   "cell_type": "code",
   "execution_count": null,
   "id": "00b4a3e2-8a4d-454a-8555-17ddafe286fd",
   "metadata": {},
   "outputs": [],
   "source": [
    "pip install google-cloud-bigquery"
   ]
  },
  {
   "cell_type": "code",
   "execution_count": 1,
   "id": "c87ae976-72df-477b-a5cc-30e95437836b",
   "metadata": {},
   "outputs": [],
   "source": [
    "import os\n",
    "os.environ['GOOGLE_APPLICATION_CREDENTIALS'] = 'rute/file.json'\n"
   ]
  },
  {
   "cell_type": "code",
   "execution_count": 3,
   "id": "14d275de-6b22-4518-8526-d6493989582b",
   "metadata": {},
   "outputs": [
    {
     "name": "stdout",
     "output_type": "stream",
     "text": [
      "       id  order_id  user_id  product_id  inventory_item_id      status  \\\n",
      "0    1650      1160      969       16898               4503  Processing   \n",
      "1   43815     30354    24239       16898             118388   Cancelled   \n",
      "2  116616     80445    64322       16898             314864   Cancelled   \n",
      "3   96202     66282    52992       16898             259836    Returned   \n",
      "4   29318     20301    16274       16898              79355    Complete   \n",
      "\n",
      "                 created_at                shipped_at  \\\n",
      "0 2024-04-08 09:25:56+00:00                       NaT   \n",
      "1 2021-02-27 06:06:18+00:00                       NaT   \n",
      "2 2024-02-02 01:55:18+00:00                       NaT   \n",
      "3 2024-05-20 17:55:05+00:00 2024-05-20 18:30:00+00:00   \n",
      "4 2023-08-03 00:11:03+00:00 2023-08-03 22:10:00+00:00   \n",
      "\n",
      "               delivered_at               returned_at  sale_price  \\\n",
      "0                       NaT                       NaT        25.0   \n",
      "1                       NaT                       NaT        25.0   \n",
      "2                       NaT                       NaT        25.0   \n",
      "3 2024-05-24 23:22:00+00:00 2024-05-26 06:53:00+00:00        25.0   \n",
      "4 2023-08-05 12:53:00+00:00                       NaT        25.0   \n",
      "\n",
      "           cost     category brand department  \n",
      "0  13.920000000  Tops & Tees  None        Men  \n",
      "1  13.920000000  Tops & Tees  None        Men  \n",
      "2  13.920000000  Tops & Tees  None        Men  \n",
      "3  13.920000000  Tops & Tees  None        Men  \n",
      "4  13.920000000  Tops & Tees  None        Men  \n"
     ]
    }
   ],
   "source": [
    "from google.cloud import bigquery\n",
    "\n",
    "# Creamos el cliente de BigQuery\n",
    "client = bigquery.Client()\n",
    "\n",
    "# Escribir la consulta SQL\n",
    "query = \"\"\"\n",
    "    SELECT *\n",
    "    FROM `retail_database.retail_dataset.order_items`\n",
    "    LIMIT 10\n",
    "\"\"\"\n",
    "\n",
    "# Ejecutar la consulta y cargar los datos en un DataFrame de Pandas\n",
    "query_job = client.query(query)  # Ejecutar la consulta\n",
    "\n",
    "# Convertir los resultados en un DataFrame de Pandas\n",
    "df = query_job.to_dataframe()\n",
    "\n",
    "# Mostrar los primeros registros\n",
    "print(df.head())"
   ]
  },
  {
   "cell_type": "code",
   "execution_count": null,
   "id": "cb17114c-f546-446a-80e3-96842cf4cd6f",
   "metadata": {},
   "outputs": [],
   "source": [
    "!pip install db-dtypes\n"
   ]
  },
  {
   "cell_type": "code",
   "execution_count": null,
   "id": "6245ce7b-32ab-4ac1-ae4f-7b3fc9c95972",
   "metadata": {},
   "outputs": [],
   "source": [
    "!pip install google-cloud-bigquery-storage\n"
   ]
  },
  {
   "cell_type": "code",
   "execution_count": 87,
   "id": "69bdd464-d0d1-4584-9c35-481e94ee9fc9",
   "metadata": {},
   "outputs": [
    {
     "name": "stdout",
     "output_type": "stream",
     "text": [
      "       id  order_id  user_id  product_id  inventory_item_id    status  \\\n",
      "0    2112      1470     1233       13606               5741  Complete   \n",
      "1  144247     99489    79480       13606             389642  Complete   \n",
      "2   43911     30420    24300       28679             118649  Complete   \n",
      "3  167127    115282    91970       28679             451374  Complete   \n",
      "4  139046     95937    76669       28679             375572  Complete   \n",
      "\n",
      "                 created_at                shipped_at  \\\n",
      "0 2024-06-01 03:12:02+00:00 2024-06-01 09:33:00+00:00   \n",
      "1 2024-02-24 12:51:58+00:00 2024-02-25 02:42:00+00:00   \n",
      "2 2023-01-01 03:29:53+00:00 2023-01-02 07:50:00+00:00   \n",
      "3 2022-01-21 01:08:17+00:00 2022-01-22 17:50:00+00:00   \n",
      "4 2020-05-23 14:24:24+00:00 2020-05-24 16:49:00+00:00   \n",
      "\n",
      "               delivered_at returned_at  sale_price     category  \\\n",
      "0 2024-06-02 01:33:00+00:00         NaT        2.50  Accessories   \n",
      "1 2024-02-26 07:32:00+00:00         NaT        2.50  Accessories   \n",
      "2 2023-01-03 20:22:00+00:00         NaT        3.50  Accessories   \n",
      "3 2022-01-22 23:18:00+00:00         NaT        3.50  Accessories   \n",
      "4 2020-05-27 12:17:00+00:00         NaT        3.50  Accessories   \n",
      "\n",
      "              brand department sale_price_numeric  cost  \n",
      "0  Scarf_tradinginc      Women        2.500000000  1.11  \n",
      "1  Scarf_tradinginc      Women        2.500000000  1.11  \n",
      "2        Greatlookz        Men        3.500000000  1.52  \n",
      "3        Greatlookz        Men        3.500000000  1.52  \n",
      "4        Greatlookz        Men        3.500000000  1.52  \n"
     ]
    }
   ],
   "source": [
    "# Importar las bibliotecas necesarias\n",
    "from google.cloud import bigquery_storage\n",
    "import pandas as pd  \n",
    "\n",
    "\n",
    "# Autenticación (fuera de Google Colab)\n",
    "os.environ['GOOGLE_APPLICATION_CREDENTIALS'] = 'rute/file.json'\n",
    "\n",
    "# Crear el cliente de BigQuery\n",
    "client = bigquery.Client()\n",
    "\n",
    "# Escribir la consulta SQL\n",
    "query = \"\"\"\n",
    "    SELECT *  FROM `retail_database.retail_dataset.order_items` WHERE status=\"Complete\"\n",
    "\"\"\"\n",
    "\n",
    "# Ejecutar la consulta y cargar los datos en un DataFrame de Pandas\n",
    "query_job = client.query(query)\n",
    "df = query_job.to_dataframe()  # Carga los resultados de la consulta en un DataFrame de Pandas\n",
    "\n",
    "# Ver las primeras filas del DataFrame\n",
    "print(df.head())"
   ]
  },
  {
   "cell_type": "code",
   "execution_count": 51,
   "id": "6b264138-9e6f-447c-ba3b-ee236ea2b3cf",
   "metadata": {},
   "outputs": [
    {
     "name": "stdout",
     "output_type": "stream",
     "text": [
      "Registros duplicados:\n",
      "Empty DataFrame\n",
      "Columns: [id, order_id, user_id, product_id, inventory_item_id, status, created_at, shipped_at, delivered_at, returned_at, sale_price, cost, category, brand, department, sale_price_numeric, processing_time, shipping_time]\n",
      "Index: []\n"
     ]
    }
   ],
   "source": [
    "# Identificar filas duplicadas en todas las columnas\n",
    "duplicados = df[df.duplicated()]\n",
    "\n",
    "# Mostrar los registros duplicados\n",
    "print(\"Registros duplicados:\")\n",
    "print(duplicados)\n"
   ]
  },
  {
   "cell_type": "code",
   "execution_count": 11,
   "id": "ee5eaeab-3b5c-4126-890d-c235c16399e4",
   "metadata": {},
   "outputs": [
    {
     "name": "stdout",
     "output_type": "stream",
     "text": [
      "Ingresos por Categoría:\n",
      "                         category     sale_price\n",
      "0                     Accessories  104239.979953\n",
      "1                          Active  115205.580014\n",
      "2               Blazers & Jackets   74810.510138\n",
      "3                   Clothing Sets    4197.269995\n",
      "4                         Dresses  110998.670287\n",
      "5   Fashion Hoodies & Sweatshirts  167856.130073\n",
      "6                       Intimates  109142.220114\n",
      "7                           Jeans  325967.830402\n",
      "8             Jumpsuits & Rompers    9525.360033\n",
      "9                        Leggings   20222.209964\n",
      "10                      Maternity   64038.609892\n",
      "11              Outerwear & Coats  331029.679697\n",
      "12                          Pants  113090.600387\n",
      "13                 Pants & Capris   46561.130157\n",
      "14                           Plus   39328.360119\n",
      "15                         Shorts  128786.980393\n",
      "16                         Skirts   28829.550098\n",
      "17                 Sleep & Lounge  137677.650404\n",
      "18                          Socks   29542.849979\n",
      "19                Socks & Hosiery   15969.999977\n",
      "20                          Suits   30284.790018\n",
      "21            Suits & Sport Coats  169491.559825\n",
      "22                       Sweaters  208758.230043\n",
      "23                           Swim  160318.810285\n",
      "24                    Tops & Tees  121990.340420\n",
      "25                      Underwear   51760.650063\n",
      "\n",
      "Ingresos por Departamento:\n",
      "  department    sale_price\n",
      "0        Men  1.468015e+06\n",
      "1      Women  1.251611e+06\n"
     ]
    }
   ],
   "source": [
    "# Ingresos por categoría\n",
    "ingresos_por_categoria = df.groupby('category')['sale_price'].sum().reset_index()\n",
    "\n",
    "# Ingresos por departamento\n",
    "ingresos_por_departamento = df.groupby('department')['sale_price'].sum().reset_index()\n",
    "\n",
    "# Visualización de los resultados\n",
    "print(\"Ingresos por Categoría:\")\n",
    "print(ingresos_por_categoria)\n",
    "print(\"\\nIngresos por Departamento:\")\n",
    "print(ingresos_por_departamento)"
   ]
  },
  {
   "cell_type": "code",
   "execution_count": 27,
   "id": "fd33e052-f6a7-463b-a758-61712090777d",
   "metadata": {},
   "outputs": [
    {
     "name": "stdout",
     "output_type": "stream",
     "text": [
      "Ingresos por Categoría:\n",
      "                         category  sale_price\n",
      "0                     Accessories  104,239.98\n",
      "1                          Active  115,205.58\n",
      "2               Blazers & Jackets   74,810.51\n",
      "3                   Clothing Sets    4,197.27\n",
      "4                         Dresses  110,998.67\n",
      "5   Fashion Hoodies & Sweatshirts  167,856.13\n",
      "6                       Intimates  109,142.22\n",
      "7                           Jeans  325,967.83\n",
      "8             Jumpsuits & Rompers    9,525.36\n",
      "9                        Leggings   20,222.21\n",
      "10                      Maternity   64,038.61\n",
      "11              Outerwear & Coats  331,029.68\n",
      "12                          Pants  113,090.60\n",
      "13                 Pants & Capris   46,561.13\n",
      "14                           Plus   39,328.36\n",
      "15                         Shorts  128,786.98\n",
      "16                         Skirts   28,829.55\n",
      "17                 Sleep & Lounge  137,677.65\n",
      "18                          Socks   29,542.85\n",
      "19                Socks & Hosiery   15,970.00\n",
      "20                          Suits   30,284.79\n",
      "21            Suits & Sport Coats  169,491.56\n",
      "22                       Sweaters  208,758.23\n",
      "23                           Swim  160,318.81\n",
      "24                    Tops & Tees  121,990.34\n",
      "25                      Underwear   51,760.65\n",
      "\n",
      "Ingresos por Departamento:\n",
      "  department   sale_price\n",
      "0        Men 1,468,014.97\n",
      "1      Women 1,251,610.58\n"
     ]
    }
   ],
   "source": [
    "# Ajustando Pandas para mostrar números en notación decimal\n",
    "pd.options.display.float_format = '{:,.2f}'.format\n",
    "# Ingresos por categoría\n",
    "ingresos_por_categoria = df.groupby('category')['sale_price'].sum().reset_index()\n",
    "\n",
    "# Ingresos por departamento\n",
    "ingresos_por_departamento = df.groupby('department')['sale_price'].sum().reset_index()\n",
    "\n",
    "# Visualización de los resultados\n",
    "print(\"Ingresos por Categoría:\")\n",
    "print(ingresos_por_categoria)\n",
    "print(\"\\nIngresos por Departamento:\")\n",
    "print(ingresos_por_departamento)"
   ]
  },
  {
   "cell_type": "code",
   "execution_count": 31,
   "id": "38183ccb-a82e-45a5-bc31-de85ff176abc",
   "metadata": {},
   "outputs": [
    {
     "name": "stdout",
     "output_type": "stream",
     "text": [
      "Tiempo de Procesamiento (días):\n",
      "Promedio: 0.05\n",
      "Máximo: 3\n",
      "Mínimo: -5\n",
      "\n",
      "Tiempo de Envío (días):\n",
      "Promedio: 2.00\n",
      "Máximo: 4\n",
      "Mínimo: 0\n"
     ]
    }
   ],
   "source": [
    "# Calcular el tiempo de procesamiento\n",
    "df['processing_time'] = (pd.to_datetime(df['shipped_at']) - pd.to_datetime(df['created_at'])).dt.days\n",
    "\n",
    "# Calcular el tiempo de envío\n",
    "df['shipping_time'] = (pd.to_datetime(df['delivered_at']) - pd.to_datetime(df['shipped_at'])).dt.days\n",
    "\n",
    "# Calcular el promedio, máximo y mínimo para el tiempo de procesamiento\n",
    "processing_avg = df['processing_time'].mean()\n",
    "processing_max = df['processing_time'].max()\n",
    "processing_min = df['processing_time'].min()\n",
    "\n",
    "# Calcular el promedio, máximo y mínimo para el tiempo de envío\n",
    "shipping_avg = df['shipping_time'].mean()\n",
    "shipping_max = df['shipping_time'].max()\n",
    "shipping_min = df['shipping_time'].min()\n",
    "\n",
    "# Imprimir los resultados\n",
    "print(\"Tiempo de Procesamiento (días):\")\n",
    "print(f\"Promedio: {processing_avg:.2f}\")\n",
    "print(f\"Máximo: {processing_max}\")\n",
    "print(f\"Mínimo: {processing_min}\\n\")\n",
    "\n",
    "print(\"Tiempo de Envío (días):\")\n",
    "print(f\"Promedio: {shipping_avg:.2f}\")\n",
    "print(f\"Máximo: {shipping_max}\")\n",
    "print(f\"Mínimo: {shipping_min}\")"
   ]
  },
  {
   "cell_type": "code",
   "execution_count": 33,
   "id": "c61ae516-a6b9-407b-90f5-38119dda96d1",
   "metadata": {},
   "outputs": [
    {
     "name": "stdout",
     "output_type": "stream",
     "text": [
      "Registros con tiempos de procesamiento negativos:\n",
      "                     created_at                shipped_at  processing_time\n",
      "8     2024-02-06 06:10:38+00:00 2024-02-05 11:03:00+00:00               -1\n",
      "9     2024-06-29 09:48:55+00:00 2024-06-27 14:11:00+00:00               -2\n",
      "11    2024-01-06 06:15:26+00:00 2024-01-04 20:04:00+00:00               -2\n",
      "12    2023-10-19 12:00:07+00:00 2023-10-17 08:24:00+00:00               -3\n",
      "13    2021-09-10 00:38:35+00:00 2021-09-07 09:54:00+00:00               -3\n",
      "...                         ...                       ...              ...\n",
      "45710 2024-02-15 08:09:11+00:00 2024-02-13 06:22:00+00:00               -3\n",
      "45713 2020-02-23 03:09:50+00:00 2020-02-20 14:26:00+00:00               -3\n",
      "45714 2021-07-04 04:02:29+00:00 2021-07-02 10:06:00+00:00               -2\n",
      "45719 2022-01-06 15:46:46+00:00 2022-01-05 00:02:00+00:00               -2\n",
      "45721 2021-08-04 08:48:51+00:00 2021-08-03 10:58:00+00:00               -1\n",
      "\n",
      "[13815 rows x 3 columns]\n"
     ]
    }
   ],
   "source": [
    "# Filtrar registros donde el tiempo de procesamiento es negativo\n",
    "errores_procesamiento = df[df['processing_time'] < 0]\n",
    "\n",
    "# Mostrar los registros problemáticos\n",
    "print(\"Registros con tiempos de procesamiento negativos:\")\n",
    "print(errores_procesamiento[['created_at', 'shipped_at', 'processing_time']])"
   ]
  },
  {
   "cell_type": "code",
   "execution_count": 35,
   "id": "eb4c40c8-cf94-446f-a34e-a82cebc2b153",
   "metadata": {},
   "outputs": [
    {
     "name": "stdout",
     "output_type": "stream",
     "text": [
      "Registros con tiempos de procesamiento negativos después de la corrección:\n",
      "Empty DataFrame\n",
      "Columns: [id, order_id, user_id, product_id, inventory_item_id, status, created_at, shipped_at, delivered_at, returned_at, sale_price, cost, category, brand, department, sale_price_numeric, processing_time, shipping_time]\n",
      "Index: []\n"
     ]
    }
   ],
   "source": [
    "# Filtrar los registros con tiempos negativos\n",
    "errores_procesamiento = df[df['processing_time'] < 0]\n",
    "# Intercambiar las columnas 'created_at' y 'shipped_at' para los registros con tiempos negativos\n",
    "df.loc[df['processing_time'] < 0, ['created_at', 'shipped_at']] = df.loc[df['processing_time'] < 0, ['shipped_at', 'created_at']].values\n",
    "\n",
    "# Recalcular el tiempo de procesamiento después de la corrección\n",
    "df['processing_time'] = (pd.to_datetime(df['shipped_at']) - pd.to_datetime(df['created_at'])).dt.days\n",
    "# Verificar si todavía hay valores negativos después de la corrección\n",
    "errores_procesamiento_post_correccion = df[df['processing_time'] < 0]\n",
    "\n",
    "# Mostrar el resultado\n",
    "print(\"Registros con tiempos de procesamiento negativos después de la corrección:\")\n",
    "print(errores_procesamiento_post_correccion)\n"
   ]
  },
  {
   "cell_type": "code",
   "execution_count": 37,
   "id": "c3987390-4c26-4879-a362-5bb9298fb388",
   "metadata": {},
   "outputs": [
    {
     "name": "stdout",
     "output_type": "stream",
     "text": [
      "Tiempo de Procesamiento (días):\n",
      "Promedio: 1.01\n",
      "Máximo: 4\n",
      "Mínimo: 0\n",
      "\n",
      "Tiempo de Envío (días):\n",
      "Promedio: 1.53\n",
      "Máximo: 4\n",
      "Mínimo: -4\n"
     ]
    }
   ],
   "source": [
    "# Calcular el tiempo de procesamiento\n",
    "df['processing_time'] = (pd.to_datetime(df['shipped_at']) - pd.to_datetime(df['created_at'])).dt.days\n",
    "\n",
    "# Calcular el tiempo de envío\n",
    "df['shipping_time'] = (pd.to_datetime(df['delivered_at']) - pd.to_datetime(df['shipped_at'])).dt.days\n",
    "\n",
    "# Calcular el promedio, máximo y mínimo para el tiempo de procesamiento\n",
    "processing_avg = df['processing_time'].mean()\n",
    "processing_max = df['processing_time'].max()\n",
    "processing_min = df['processing_time'].min()\n",
    "\n",
    "# Calcular el promedio, máximo y mínimo para el tiempo de envío\n",
    "shipping_avg = df['shipping_time'].mean()\n",
    "shipping_max = df['shipping_time'].max()\n",
    "shipping_min = df['shipping_time'].min()\n",
    "\n",
    "# Imprimir los resultados\n",
    "print(\"Tiempo de Procesamiento (días):\")\n",
    "print(f\"Promedio: {processing_avg:.2f}\")\n",
    "print(f\"Máximo: {processing_max}\")\n",
    "print(f\"Mínimo: {processing_min}\\n\")\n",
    "\n",
    "print(\"Tiempo de Envío (días):\")\n",
    "print(f\"Promedio: {shipping_avg:.2f}\")\n",
    "print(f\"Máximo: {shipping_max}\")\n",
    "print(f\"Mínimo: {shipping_min}\")"
   ]
  },
  {
   "cell_type": "code",
   "execution_count": 39,
   "id": "71f5b61a-ed42-4660-b9b4-29f4b23ac75e",
   "metadata": {},
   "outputs": [
    {
     "name": "stdout",
     "output_type": "stream",
     "text": [
      "Registros con tiempos de envío negativos:\n",
      "                            shipped_at                     delivered_at  \\\n",
      "23           2021-06-29 08:55:31+00:00        2021-06-28 23:33:00+00:00   \n",
      "30           2021-03-08 07:52:01+00:00        2021-03-07 20:57:00+00:00   \n",
      "47           2023-11-16 16:54:45+00:00        2023-11-16 16:13:00+00:00   \n",
      "59           2022-12-16 08:57:41+00:00        2022-12-14 23:43:00+00:00   \n",
      "74    2024-09-03 16:34:20.159446+00:00 2024-09-03 08:00:23.159446+00:00   \n",
      "...                                ...                              ...   \n",
      "45689        2024-08-16 13:08:31+00:00        2024-08-15 18:55:00+00:00   \n",
      "45705        2022-07-10 00:31:14+00:00        2022-07-09 12:02:00+00:00   \n",
      "45714        2021-07-04 04:02:29+00:00        2021-07-03 07:29:00+00:00   \n",
      "45719        2022-01-06 15:46:46+00:00        2022-01-05 04:05:00+00:00   \n",
      "45721        2021-08-04 08:48:51+00:00        2021-08-04 07:24:00+00:00   \n",
      "\n",
      "       shipping_time  \n",
      "23                -1  \n",
      "30                -1  \n",
      "47                -1  \n",
      "59                -2  \n",
      "74                -1  \n",
      "...              ...  \n",
      "45689             -1  \n",
      "45705             -1  \n",
      "45714             -1  \n",
      "45719             -2  \n",
      "45721             -1  \n",
      "\n",
      "[4324 rows x 3 columns]\n"
     ]
    }
   ],
   "source": [
    "# Filtrar los registros con tiempos de envío negativos\n",
    "errores_envio = df[df['shipping_time'] < 0]\n",
    "\n",
    "# Mostrar los registros problemáticos\n",
    "print(\"Registros con tiempos de envío negativos:\")\n",
    "print(errores_envio[['shipped_at', 'delivered_at', 'shipping_time']])\n"
   ]
  },
  {
   "cell_type": "code",
   "execution_count": 45,
   "id": "f5d052c5-178f-4e52-8448-8697041f0f45",
   "metadata": {},
   "outputs": [
    {
     "name": "stdout",
     "output_type": "stream",
     "text": [
      "Registros con errores en la secuencia temporal:\n",
      "           id                       created_at  \\\n",
      "23       9281        2021-06-28 16:06:00+00:00   \n",
      "30     150734        2021-03-05 03:13:00+00:00   \n",
      "47      73589        2023-11-13 06:20:00+00:00   \n",
      "59     137589        2022-12-13 22:35:00+00:00   \n",
      "74     134107 2024-09-02 01:57:23.159446+00:00   \n",
      "...       ...                              ...   \n",
      "45689  132222        2024-08-14 07:13:00+00:00   \n",
      "45705   27284        2022-07-08 05:46:00+00:00   \n",
      "45714  119410        2021-07-02 10:06:00+00:00   \n",
      "45719  146320        2022-01-05 00:02:00+00:00   \n",
      "45721   48543        2021-08-03 10:58:00+00:00   \n",
      "\n",
      "                            shipped_at                     delivered_at  \n",
      "23           2021-06-29 08:55:31+00:00        2021-06-28 23:33:00+00:00  \n",
      "30           2021-03-08 07:52:01+00:00        2021-03-07 20:57:00+00:00  \n",
      "47           2023-11-16 16:54:45+00:00        2023-11-16 16:13:00+00:00  \n",
      "59           2022-12-16 08:57:41+00:00        2022-12-14 23:43:00+00:00  \n",
      "74    2024-09-03 16:34:20.159446+00:00 2024-09-03 08:00:23.159446+00:00  \n",
      "...                                ...                              ...  \n",
      "45689        2024-08-16 13:08:31+00:00        2024-08-15 18:55:00+00:00  \n",
      "45705        2022-07-10 00:31:14+00:00        2022-07-09 12:02:00+00:00  \n",
      "45714        2021-07-04 04:02:29+00:00        2021-07-03 07:29:00+00:00  \n",
      "45719        2022-01-06 15:46:46+00:00        2022-01-05 04:05:00+00:00  \n",
      "45721        2021-08-04 08:48:51+00:00        2021-08-04 07:24:00+00:00  \n",
      "\n",
      "[4324 rows x 4 columns]\n"
     ]
    }
   ],
   "source": [
    "# Verificar si algún registro no sigue la secuencia temporal lógica\n",
    "errores_secuencia = df[\n",
    "    (df['created_at'] > df['shipped_at']) | \n",
    "    (df['shipped_at'] > df['delivered_at']) |\n",
    "    (df['created_at'] > df['delivered_at'])\n",
    "]\n",
    "\n",
    "# Mostrar los registros con errores en la secuencia temporal\n",
    "print(\"Registros con errores en la secuencia temporal:\")\n",
    "print(errores_secuencia[['id', 'created_at', 'shipped_at', 'delivered_at']])\n"
   ]
  },
  {
   "cell_type": "code",
   "execution_count": 47,
   "id": "e44f4978-92c3-434e-a088-fb34da2e0303",
   "metadata": {},
   "outputs": [
    {
     "name": "stdout",
     "output_type": "stream",
     "text": [
      "Registros con tiempos de envío negativos después de la corrección:\n",
      "Empty DataFrame\n",
      "Columns: [id, order_id, user_id, product_id, inventory_item_id, status, created_at, shipped_at, delivered_at, returned_at, sale_price, cost, category, brand, department, sale_price_numeric, processing_time, shipping_time]\n",
      "Index: []\n"
     ]
    }
   ],
   "source": [
    "# Intercambiar las columnas 'shipped_at' y 'delivered_at' para los registros con tiempos negativos\n",
    "df.loc[df['shipping_time'] < 0, ['shipped_at', 'delivered_at']] = df.loc[df['shipping_time'] < 0, ['delivered_at', 'shipped_at']].values\n",
    "\n",
    "# Recalcular el tiempo de envío después de la corrección\n",
    "df['shipping_time'] = (pd.to_datetime(df['delivered_at']) - pd.to_datetime(df['shipped_at'])).dt.days\n",
    "\n",
    "# Verificar si todavía hay valores negativos después de la corrección\n",
    "errores_envio_post_correccion = df[df['shipping_time'] < 0]\n",
    "\n",
    "# Mostrar el resultado\n",
    "print(\"Registros con tiempos de envío negativos después de la corrección:\")\n",
    "print(errores_envio_post_correccion)"
   ]
  },
  {
   "cell_type": "code",
   "execution_count": 53,
   "id": "5b8fdeaf-4ba7-4c17-b9a1-096cfe7b91bb",
   "metadata": {},
   "outputs": [
    {
     "name": "stdout",
     "output_type": "stream",
     "text": [
      "Registros con errores en la secuencia temporal:\n",
      "Empty DataFrame\n",
      "Columns: [id, created_at, shipped_at, delivered_at]\n",
      "Index: []\n"
     ]
    }
   ],
   "source": [
    "# Verificar si algún registro no sigue la secuencia temporal lógica\n",
    "errores_secuencia = df[\n",
    "    (df['created_at'] > df['shipped_at']) | \n",
    "    (df['shipped_at'] > df['delivered_at']) |\n",
    "    (df['created_at'] > df['delivered_at'])\n",
    "]\n",
    "\n",
    "# Mostrar los registros con errores en la secuencia temporal\n",
    "print(\"Registros con errores en la secuencia temporal:\")\n",
    "print(errores_secuencia[['id', 'created_at', 'shipped_at', 'delivered_at']])"
   ]
  },
  {
   "cell_type": "code",
   "execution_count": 57,
   "id": "a3e37b33-b14a-4066-b573-6fe8d9daf5d0",
   "metadata": {},
   "outputs": [
    {
     "name": "stdout",
     "output_type": "stream",
     "text": [
      "       user_id  order_id\n",
      "0            2         1\n",
      "1            9         1\n",
      "2           10         1\n",
      "3           13         1\n",
      "4           16         2\n",
      "...        ...       ...\n",
      "27750    99976         1\n",
      "27751    99982         2\n",
      "27752    99985         1\n",
      "27753    99992         1\n",
      "27754    99994         1\n",
      "\n",
      "[27755 rows x 2 columns]\n"
     ]
    }
   ],
   "source": [
    "# Calcular la frecuencia de compra por cliente\n",
    "frecuencia_cliente = df.groupby('user_id')['order_id'].nunique().reset_index()\n",
    "\n",
    "# Imprimir la tabla de frecuencia por cliente\n",
    "print(frecuencia_cliente)\n"
   ]
  },
  {
   "cell_type": "code",
   "execution_count": 59,
   "id": "56997a62-243a-4f37-9264-3fa105deb1a6",
   "metadata": {},
   "outputs": [
    {
     "name": "stdout",
     "output_type": "stream",
     "text": [
      "Valor máximo de frecuencia de compra: 4\n",
      "Valor mínimo de frecuencia de compra: 1\n"
     ]
    }
   ],
   "source": [
    "# Calcular el valor máximo de la frecuencia de compra\n",
    "max_frecuencia = frecuencia_cliente['order_id'].max()\n",
    "\n",
    "# Calcular el valor mínimo de la frecuencia de compra\n",
    "min_frecuencia = frecuencia_cliente['order_id'].min()\n",
    "\n",
    "# Imprimir los resultados\n",
    "print(f\"Valor máximo de frecuencia de compra: {max_frecuencia}\")\n",
    "print(f\"Valor mínimo de frecuencia de compra: {min_frecuencia}\")"
   ]
  },
  {
   "cell_type": "code",
   "execution_count": 61,
   "id": "33eee77e-fa7a-431d-b7ef-63daa86de190",
   "metadata": {},
   "outputs": [
    {
     "name": "stdout",
     "output_type": "stream",
     "text": [
      "Porcentaje de usuarios que han hecho 1, 2, 3 o 4 compras:\n",
      "   num_compras  cantidad_usuarios  porcentaje\n",
      "0            1              24348       87.72\n",
      "1            2               3074       11.08\n",
      "2            3                314        1.13\n",
      "3            4                 19        0.07\n"
     ]
    }
   ],
   "source": [
    "# 1. Contar el número de compras por usuario\n",
    "compras_por_usuario = df.groupby('user_id')['order_id'].nunique().reset_index()\n",
    "compras_por_usuario.columns = ['user_id', 'num_compras']\n",
    "\n",
    "# 2. Contar la frecuencia de cada número de compras\n",
    "frecuencia_compras = compras_por_usuario['num_compras'].value_counts().reset_index()\n",
    "frecuencia_compras.columns = ['num_compras', 'cantidad_usuarios']\n",
    "\n",
    "# 3. Filtrar para mostrar solo los que han hecho 1, 2, 3, o 4 compras\n",
    "frecuencia_compras = frecuencia_compras[frecuencia_compras['num_compras'].isin([1, 2, 3, 4])]\n",
    "\n",
    "# 4. Calcular el porcentaje\n",
    "total_usuarios = compras_por_usuario['user_id'].nunique()\n",
    "frecuencia_compras['porcentaje'] = (frecuencia_compras['cantidad_usuarios'] / total_usuarios) * 100\n",
    "\n",
    "# Mostrar el resultado\n",
    "print(\"Porcentaje de usuarios que han hecho 1, 2, 3 o 4 compras:\")\n",
    "print(frecuencia_compras)"
   ]
  },
  {
   "cell_type": "code",
   "execution_count": 65,
   "id": "f2c67af9-165e-46e0-9421-67a5f91596ee",
   "metadata": {},
   "outputs": [
    {
     "name": "stdout",
     "output_type": "stream",
     "text": [
      "       Cliente_ID  Valor_Promedio_Compra\n",
      "0               2                  59.50\n",
      "1               9                  15.00\n",
      "2              10                 178.00\n",
      "3              13                  59.95\n",
      "4              16                  20.24\n",
      "...           ...                    ...\n",
      "27750       99976                  29.99\n",
      "27751       99982                  52.18\n",
      "27752       99985                   1.75\n",
      "27753       99992                  58.91\n",
      "27754       99994                  38.49\n",
      "\n",
      "[27755 rows x 2 columns]\n"
     ]
    }
   ],
   "source": [
    "# Calcular el valor promedio de compra por cliente\n",
    "valor_cliente = df.groupby('user_id')['sale_price'].mean().reset_index()\n",
    "\n",
    "# Renombrar los encabezados para que sean más descriptivos\n",
    "valor_cliente.columns = ['Cliente_ID', 'Valor_Promedio_Compra']\n",
    "\n",
    "# Imprimir la tabla con los nuevos encabezados\n",
    "print(valor_cliente)\n"
   ]
  },
  {
   "cell_type": "code",
   "execution_count": 67,
   "id": "ab992b69-df50-406a-980a-45c38130adbd",
   "metadata": {},
   "outputs": [
    {
     "name": "stdout",
     "output_type": "stream",
     "text": [
      "  Rango_Valor_Promedio  Cantidad_Clientes  Porcentaje_Clientes\n",
      "0                 0-50              15856                57.13\n",
      "1               51-100               8288                29.86\n",
      "2              101-200               2985                10.75\n",
      "3              201-500                575                 2.07\n",
      "4             501-1000                 51                 0.18\n",
      "5                1001+                  0                 0.00\n"
     ]
    }
   ],
   "source": [
    "# Definir los rangos de valor promedio de compra\n",
    "bins = [0, 50, 100, 200, 500, 1000, float('inf')]\n",
    "labels = ['0-50', '51-100', '101-200', '201-500', '501-1000', '1001+']\n",
    "valor_cliente['Rango_Valor_Promedio'] = pd.cut(valor_cliente['Valor_Promedio_Compra'], bins=bins, labels=labels, right=False)\n",
    "\n",
    "# Calcular la cantidad de clientes en cada rango\n",
    "conteo_rangos = valor_cliente['Rango_Valor_Promedio'].value_counts().sort_index()\n",
    "\n",
    "# Calcular el porcentaje de clientes en cada rango\n",
    "porcentaje_rangos = (conteo_rangos / len(valor_cliente)) * 100\n",
    "\n",
    "# Crear un DataFrame con los resultados\n",
    "resultado_23 = pd.DataFrame({\n",
    "    'Rango_Valor_Promedio': conteo_rangos.index,\n",
    "    'Cantidad_Clientes': conteo_rangos.values,\n",
    "    'Porcentaje_Clientes': porcentaje_rangos.values\n",
    "})\n",
    "\n",
    "# Imprimir el resultado\n",
    "print(resultado_23)"
   ]
  },
  {
   "cell_type": "code",
   "execution_count": 69,
   "id": "5db4f1e0-dabc-470a-be0b-047149af38eb",
   "metadata": {},
   "outputs": [
    {
     "name": "stdout",
     "output_type": "stream",
     "text": [
      "    month  sale_price\n",
      "0       1  191,812.67\n",
      "1       2  193,015.86\n",
      "2       3  223,383.08\n",
      "3       4  218,170.92\n",
      "4       5  262,068.04\n",
      "5       6  249,505.17\n",
      "6       7  294,154.64\n",
      "7       8  398,583.69\n",
      "8       9  152,542.05\n",
      "9      10  178,135.16\n",
      "10     11  170,193.41\n",
      "11     12  188,060.86\n"
     ]
    }
   ],
   "source": [
    "# Extraer el mes de la fecha de creación de la orden\n",
    "df['month'] = pd.to_datetime(df['created_at']).dt.month\n",
    "\n",
    "# Ventas por mes\n",
    "ventas_por_mes = df.groupby('month')['sale_price'].sum().reset_index()\n",
    "\n",
    "# Imprimir la tabla de ventas por mes\n",
    "print(ventas_por_mes)\n"
   ]
  },
  {
   "cell_type": "code",
   "execution_count": 73,
   "id": "bc66f743-bd9b-4baa-ae1a-4e61e4b4d43b",
   "metadata": {},
   "outputs": [
    {
     "name": "stdout",
     "output_type": "stream",
     "text": [
      "year           2019      2020      2021      2022      2023       2024\n",
      "Mes_Nombre                                                            \n",
      "Enero           NaN  6,859.33 17,123.17 30,896.72 49,949.90  86,983.55\n",
      "Febrero      693.79  9,479.25 17,782.26 28,580.43 46,518.27  89,961.86\n",
      "Marzo      1,154.70  8,893.99 23,388.85 34,270.67 59,258.80  96,416.07\n",
      "Abril      1,263.07  8,595.52 22,631.93 34,829.82 49,559.30 101,291.28\n",
      "Mayo       1,261.05 12,374.61 23,496.24 36,073.18 62,391.37 126,471.59\n",
      "Junio      3,682.35 11,714.14 20,924.51 37,619.68 59,768.24 115,796.25\n",
      "Julio      4,006.11 12,958.67 22,644.28 39,686.93 61,460.86 153,397.79\n",
      "Agosto     3,934.71 13,054.48 24,521.72 33,480.91 62,704.56 260,887.31\n",
      "Setiembre  6,289.78 15,044.37 22,063.54 40,983.96 65,701.70   2,458.70\n",
      "Octubre    6,747.72 16,199.48 28,633.22 46,242.19 80,312.55        NaN\n",
      "Noviembre  7,227.77 15,098.65 25,521.13 47,761.26 74,584.60        NaN\n",
      "Diciembre  8,207.04 21,564.59 26,738.85 48,131.92 83,418.46        NaN\n"
     ]
    }
   ],
   "source": [
    "import pandas as pd\n",
    "\n",
    "# Supongamos que 'ventas_por_mes_ano' es el DataFrame que contiene tus datos\n",
    "\n",
    "# Crear un DataFrame con los meses en el orden correcto\n",
    "meses = ['Enero', 'Febrero', 'Marzo', 'Abril', 'Mayo', 'Junio', 'Julio', 'Agosto', 'Setiembre', 'Octubre', 'Noviembre', 'Diciembre']\n",
    "ventas_por_mes_ano['Mes_Nombre'] = ventas_por_mes_ano['month'].map({1: 'Enero', 2: 'Febrero', 3: 'Marzo', 4: 'Abril', 5: 'Mayo', 6: 'Junio', 7: 'Julio', 8: 'Agosto', 9: 'Setiembre', 10: 'Octubre', 11: 'Noviembre', 12: 'Diciembre'})\n",
    "\n",
    "# Pivotar el DataFrame para tener años como columnas y meses como filas\n",
    "ventas_pivot = ventas_por_mes_ano.pivot(index='Mes_Nombre', columns='year', values='sale_price')\n",
    "\n",
    "# Reordenar las filas de acuerdo a los meses\n",
    "ventas_pivot = ventas_pivot.reindex(meses)\n",
    "\n",
    "# Imprimir el resultado\n",
    "print(ventas_pivot)\n"
   ]
  },
  {
   "cell_type": "code",
   "execution_count": 75,
   "id": "8f086e51-460b-4979-8241-05ecd198f291",
   "metadata": {},
   "outputs": [
    {
     "name": "stdout",
     "output_type": "stream",
     "text": [
      "Mes_Nombre     Enero   Febrero     Marzo      Abril       Mayo      Junio  \\\n",
      "year                                                                        \n",
      "2019             NaN    693.79  1,154.70   1,263.07   1,261.05   3,682.35   \n",
      "2020        6,859.33  9,479.25  8,893.99   8,595.52  12,374.61  11,714.14   \n",
      "2021       17,123.17 17,782.26 23,388.85  22,631.93  23,496.24  20,924.51   \n",
      "2022       30,896.72 28,580.43 34,270.67  34,829.82  36,073.18  37,619.68   \n",
      "2023       49,949.90 46,518.27 59,258.80  49,559.30  62,391.37  59,768.24   \n",
      "2024       86,983.55 89,961.86 96,416.07 101,291.28 126,471.59 115,796.25   \n",
      "\n",
      "Mes_Nombre      Julio     Agosto  Setiembre   Octubre  Noviembre  Diciembre  \n",
      "year                                                                         \n",
      "2019         4,006.11   3,934.71   6,289.78  6,747.72   7,227.77   8,207.04  \n",
      "2020        12,958.67  13,054.48  15,044.37 16,199.48  15,098.65  21,564.59  \n",
      "2021        22,644.28  24,521.72  22,063.54 28,633.22  25,521.13  26,738.85  \n",
      "2022        39,686.93  33,480.91  40,983.96 46,242.19  47,761.26  48,131.92  \n",
      "2023        61,460.86  62,704.56  65,701.70 80,312.55  74,584.60  83,418.46  \n",
      "2024       153,397.79 260,887.31   2,458.70       NaN        NaN        NaN  \n"
     ]
    }
   ],
   "source": [
    "# Invertir filas y columnas\n",
    "ventas_invertido = ventas_pivot.transpose()\n",
    "\n",
    "# Imprimir el resultado invertido\n",
    "print(ventas_invertido)\n"
   ]
  },
  {
   "cell_type": "code",
   "execution_count": 103,
   "id": "8e05f4c4-5d7f-4ed2-87ee-e8b44523cd34",
   "metadata": {},
   "outputs": [
    {
     "name": "stdout",
     "output_type": "stream",
     "text": [
      "Ganancia Bruta Total: 1,412,418.45\n",
      "Ganancia Bruta por Categoría:\n",
      "                         category  ganancia_bruta\n",
      "0                     Accessories       62,437.72\n",
      "1                          Active       66,970.62\n",
      "2               Blazers & Jackets       46,379.44\n",
      "3                   Clothing Sets        1,626.12\n",
      "4                         Dresses       61,056.33\n",
      "5   Fashion Hoodies & Sweatshirts       80,535.02\n",
      "6                       Intimates       51,159.50\n",
      "7                           Jeans      151,727.24\n",
      "8             Jumpsuits & Rompers        4,446.08\n",
      "9                        Leggings        8,037.25\n",
      "10                      Maternity       35,793.20\n",
      "11              Outerwear & Coats      183,949.56\n",
      "12                          Pants       61,207.25\n",
      "13                 Pants & Capris       22,006.96\n",
      "14                           Plus       19,536.39\n",
      "15                         Shorts       64,441.96\n",
      "16                         Skirts       17,215.95\n",
      "17                 Sleep & Lounge       71,395.44\n",
      "18                          Socks       11,696.27\n",
      "19                Socks & Hosiery        9,577.94\n",
      "20                          Suits       11,904.07\n",
      "21            Suits & Sport Coats      101,484.75\n",
      "22                       Sweaters      108,135.73\n",
      "23                           Swim       78,651.44\n",
      "24                    Tops & Tees       53,700.93\n",
      "25                      Underwear       27,345.28\n"
     ]
    }
   ],
   "source": [
    "# Calcular la ganancia bruta para cada venta\n",
    "df['ganancia_bruta'] = df['sale_price'] - df['cost']\n",
    "\n",
    "# Calcular la ganancia bruta total\n",
    "ganancia_bruta_total = df['ganancia_bruta'].sum()\n",
    "# Formatear el número con separadores de miles y dos decimales\n",
    "resultado_formateado = f\"Ganancia Bruta Total: {ganancia_bruta_total:,.2f}\"\n",
    "\n",
    "# Imprimir el resultado formateado\n",
    "print(resultado_formateado)\n",
    "\n",
    "# Calcular la ganancia bruta por categoría\n",
    "ganancia_por_categoria = df.groupby('category')['ganancia_bruta'].sum().reset_index()\n",
    "\n",
    "# Mostrar la ganancia bruta por categoría\n",
    "print(\"Ganancia Bruta por Categoría:\")\n",
    "print(ganancia_por_categoria)"
   ]
  }
 ],
 "metadata": {
  "kernelspec": {
   "display_name": "Python 3 (ipykernel)",
   "language": "python",
   "name": "python3"
  },
  "language_info": {
   "codemirror_mode": {
    "name": "ipython",
    "version": 3
   },
   "file_extension": ".py",
   "mimetype": "text/x-python",
   "name": "python",
   "nbconvert_exporter": "python",
   "pygments_lexer": "ipython3",
   "version": "3.12.4"
  }
 },
 "nbformat": 4,
 "nbformat_minor": 5
}
